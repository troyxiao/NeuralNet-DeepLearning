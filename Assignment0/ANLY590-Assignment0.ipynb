{
 "cells": [
  {
   "cell_type": "markdown",
   "metadata": {},
   "source": [
    "# 1 Regularization"
   ]
  },
  {
   "cell_type": "code",
   "execution_count": 1,
   "metadata": {},
   "outputs": [
    {
     "data": {
      "text/html": [
       "<div>\n",
       "<style>\n",
       "    .dataframe thead tr:only-child th {\n",
       "        text-align: right;\n",
       "    }\n",
       "\n",
       "    .dataframe thead th {\n",
       "        text-align: left;\n",
       "    }\n",
       "\n",
       "    .dataframe tbody tr th {\n",
       "        vertical-align: top;\n",
       "    }\n",
       "</style>\n",
       "<table border=\"1\" class=\"dataframe\">\n",
       "  <thead>\n",
       "    <tr style=\"text-align: right;\">\n",
       "      <th></th>\n",
       "      <th>AtBat</th>\n",
       "      <th>Hits</th>\n",
       "      <th>HmRun</th>\n",
       "      <th>Runs</th>\n",
       "      <th>RBI</th>\n",
       "      <th>Walks</th>\n",
       "      <th>Years</th>\n",
       "      <th>CAtBat</th>\n",
       "      <th>CHits</th>\n",
       "      <th>CHmRun</th>\n",
       "      <th>CRuns</th>\n",
       "      <th>CRBI</th>\n",
       "      <th>CWalks</th>\n",
       "      <th>PutOuts</th>\n",
       "      <th>Assists</th>\n",
       "      <th>Errors</th>\n",
       "    </tr>\n",
       "  </thead>\n",
       "  <tbody>\n",
       "    <tr>\n",
       "      <th>1</th>\n",
       "      <td>315.0</td>\n",
       "      <td>81.0</td>\n",
       "      <td>7.0</td>\n",
       "      <td>24.0</td>\n",
       "      <td>38.0</td>\n",
       "      <td>39.0</td>\n",
       "      <td>14.0</td>\n",
       "      <td>3449.0</td>\n",
       "      <td>835.0</td>\n",
       "      <td>69.0</td>\n",
       "      <td>321.0</td>\n",
       "      <td>414.0</td>\n",
       "      <td>375.0</td>\n",
       "      <td>632.0</td>\n",
       "      <td>43.0</td>\n",
       "      <td>10.0</td>\n",
       "    </tr>\n",
       "    <tr>\n",
       "      <th>2</th>\n",
       "      <td>479.0</td>\n",
       "      <td>130.0</td>\n",
       "      <td>18.0</td>\n",
       "      <td>66.0</td>\n",
       "      <td>72.0</td>\n",
       "      <td>76.0</td>\n",
       "      <td>3.0</td>\n",
       "      <td>1624.0</td>\n",
       "      <td>457.0</td>\n",
       "      <td>63.0</td>\n",
       "      <td>224.0</td>\n",
       "      <td>266.0</td>\n",
       "      <td>263.0</td>\n",
       "      <td>880.0</td>\n",
       "      <td>82.0</td>\n",
       "      <td>14.0</td>\n",
       "    </tr>\n",
       "    <tr>\n",
       "      <th>3</th>\n",
       "      <td>496.0</td>\n",
       "      <td>141.0</td>\n",
       "      <td>20.0</td>\n",
       "      <td>65.0</td>\n",
       "      <td>78.0</td>\n",
       "      <td>37.0</td>\n",
       "      <td>11.0</td>\n",
       "      <td>5628.0</td>\n",
       "      <td>1575.0</td>\n",
       "      <td>225.0</td>\n",
       "      <td>828.0</td>\n",
       "      <td>838.0</td>\n",
       "      <td>354.0</td>\n",
       "      <td>200.0</td>\n",
       "      <td>11.0</td>\n",
       "      <td>3.0</td>\n",
       "    </tr>\n",
       "    <tr>\n",
       "      <th>4</th>\n",
       "      <td>321.0</td>\n",
       "      <td>87.0</td>\n",
       "      <td>10.0</td>\n",
       "      <td>39.0</td>\n",
       "      <td>42.0</td>\n",
       "      <td>30.0</td>\n",
       "      <td>2.0</td>\n",
       "      <td>396.0</td>\n",
       "      <td>101.0</td>\n",
       "      <td>12.0</td>\n",
       "      <td>48.0</td>\n",
       "      <td>46.0</td>\n",
       "      <td>33.0</td>\n",
       "      <td>805.0</td>\n",
       "      <td>40.0</td>\n",
       "      <td>4.0</td>\n",
       "    </tr>\n",
       "    <tr>\n",
       "      <th>5</th>\n",
       "      <td>594.0</td>\n",
       "      <td>169.0</td>\n",
       "      <td>4.0</td>\n",
       "      <td>74.0</td>\n",
       "      <td>51.0</td>\n",
       "      <td>35.0</td>\n",
       "      <td>11.0</td>\n",
       "      <td>4408.0</td>\n",
       "      <td>1133.0</td>\n",
       "      <td>19.0</td>\n",
       "      <td>501.0</td>\n",
       "      <td>336.0</td>\n",
       "      <td>194.0</td>\n",
       "      <td>282.0</td>\n",
       "      <td>421.0</td>\n",
       "      <td>25.0</td>\n",
       "    </tr>\n",
       "  </tbody>\n",
       "</table>\n",
       "</div>"
      ],
      "text/plain": [
       "   AtBat   Hits  HmRun  Runs   RBI  Walks  Years  CAtBat   CHits  CHmRun  \\\n",
       "1  315.0   81.0    7.0  24.0  38.0   39.0   14.0  3449.0   835.0    69.0   \n",
       "2  479.0  130.0   18.0  66.0  72.0   76.0    3.0  1624.0   457.0    63.0   \n",
       "3  496.0  141.0   20.0  65.0  78.0   37.0   11.0  5628.0  1575.0   225.0   \n",
       "4  321.0   87.0   10.0  39.0  42.0   30.0    2.0   396.0   101.0    12.0   \n",
       "5  594.0  169.0    4.0  74.0  51.0   35.0   11.0  4408.0  1133.0    19.0   \n",
       "\n",
       "   CRuns   CRBI  CWalks  PutOuts  Assists  Errors  \n",
       "1  321.0  414.0   375.0    632.0     43.0    10.0  \n",
       "2  224.0  266.0   263.0    880.0     82.0    14.0  \n",
       "3  828.0  838.0   354.0    200.0     11.0     3.0  \n",
       "4   48.0   46.0    33.0    805.0     40.0     4.0  \n",
       "5  501.0  336.0   194.0    282.0    421.0    25.0  "
      ]
     },
     "execution_count": 1,
     "metadata": {},
     "output_type": "execute_result"
    }
   ],
   "source": [
    "import numpy as np\n",
    "import pandas as pd\n",
    "import matplotlib.pyplot as plt\n",
    "\n",
    "from sklearn.preprocessing import scale \n",
    "from sklearn.model_selection import train_test_split\n",
    "from sklearn.linear_model import Ridge, RidgeCV, Lasso, LassoCV\n",
    "from sklearn.metrics import mean_squared_error\n",
    "\n",
    "df = pd.read_csv('Hitters.csv')\n",
    "\n",
    "# Drop null and the first name column\n",
    "df = df.dropna().drop(df.columns[[0]], axis=1)\n",
    "y = df['Salary']\n",
    "# Drop the categorical predictors\n",
    "x = df.drop(['Salary','League', 'Division', 'NewLeague'], axis=1).astype('float64')\n",
    "x.head(5)"
   ]
  },
  {
   "cell_type": "code",
   "execution_count": 2,
   "metadata": {},
   "outputs": [],
   "source": [
    "# Split data into training and test sets\n",
    "X_train, X_test , y_train, y_test = train_test_split(x, y, test_size=0.5, random_state=123)"
   ]
  },
  {
   "cell_type": "code",
   "execution_count": 3,
   "metadata": {},
   "outputs": [
    {
     "data": {
      "image/png": "[encoded data removed]",
      "text/plain": [
       "<matplotlib.figure.Figure at 0x10ce8b7f0>"
      ]
     },
     "metadata": {},
     "output_type": "display_data"
    }
   ],
   "source": [
    "# 1.1.1. Create a visualization of the coefficient trajectories\n",
    "alphas = 10 ** np.linspace(10, -2, 100) \n",
    "\n",
    "Lasso_coefs = []\n",
    "for a in alphas:\n",
    "    lassoreg = Lasso(alpha=a,normalize=True, max_iter=1e5)\n",
    "    lassoreg.fit(scale(X_train), y_train)\n",
    "    Lasso_coefs.append(lassoreg.coef_)\n",
    "\n",
    "ax = plt.gca()\n",
    "ax.plot(alphas, Lasso_coefs)\n",
    "ax.set_xscale('log')\n",
    "\n",
    "plt.xlabel('alpha')\n",
    "plt.ylabel('Coefficients')\n",
    "plt.title('LASSO Coefficients Trajectory')\n",
    "plt.axis('tight')\n",
    "plt.show()"
   ]
  },
  {
   "cell_type": "code",
   "execution_count": 4,
   "metadata": {},
   "outputs": [
    {
     "data": {
      "text/plain": [
       "Index(['Hits', 'CRuns', 'CRBI'], dtype='object')"
      ]
     },
     "execution_count": 4,
     "metadata": {},
     "output_type": "execute_result"
    }
   ],
   "source": [
    "# 1.1.2. Comment on which are the final three predictors that remain in the model\n",
    "coef = Lasso(alpha= 10**(1), normalize = True, max_iter=1e5).fit(x, y).coef_\n",
    "x.columns[abs(coef) != 0]"
   ]
  },
  {
   "cell_type": "markdown",
   "metadata": {},
   "source": [
    "'Hits', 'CRuns' and 'CRBI' are the final three predictors that remain in the model. "
   ]
  },
  {
   "cell_type": "code",
   "execution_count": 5,
   "metadata": {},
   "outputs": [
    {
     "name": "stdout",
     "output_type": "stream",
     "text": [
      "The optimal value of the regularization penalty is: 0.655653238698\n"
     ]
    }
   ],
   "source": [
    "# 1.1.3. Use cross-validation to find the optimal value of the regularization penalty\n",
    "lassocv = LassoCV(alphas = None, cv = 10, max_iter = 1e5, normalize = True)\n",
    "lassocv.fit(X_train, y_train)\n",
    "print(\"The optimal value of the regularization penalty is:\", lassocv.alpha_)"
   ]
  },
  {
   "cell_type": "code",
   "execution_count": 6,
   "metadata": {},
   "outputs": [
    {
     "name": "stdout",
     "output_type": "stream",
     "text": [
      "AtBat      -0.000000\n",
      "Hits        0.276771\n",
      "HmRun      -4.902551\n",
      "Runs       -0.000000\n",
      "RBI         0.267358\n",
      "Walks       1.829353\n",
      "Years     -18.671847\n",
      "CAtBat      0.000000\n",
      "CHits       0.000000\n",
      "CHmRun      1.461752\n",
      "CRuns       0.447574\n",
      "CRBI        0.400491\n",
      "CWalks     -0.000000\n",
      "PutOuts     0.332007\n",
      "Assists     0.222621\n",
      "Errors     -0.000000\n",
      "dtype: float64\n",
      "\n",
      "There are 10 predictors left in that model.\n"
     ]
    }
   ],
   "source": [
    "#1.1.4. How many predictors are left in that model?\n",
    "lasso = Lasso(alpha=lassocv.alpha_,normalize=True, max_iter=50000)\n",
    "lasso.fit(X_train, y_train)\n",
    "mse = mean_squared_error(y_test, lasso.predict(X_test))\n",
    "print(pd.Series(lasso.coef_, index=x.columns))\n",
    "print(\"\")\n",
    "print(\"There are\", x.shape[1]-lasso.coef_.tolist().count(0),\"predictors left in that model.\")"
   ]
  },
  {
   "cell_type": "code",
   "execution_count": 7,
   "metadata": {},
   "outputs": [
    {
     "data": {
      "image/png": "[encoded data removed]",
      "text/plain": [
       "<matplotlib.figure.Figure at 0x10cff3668>"
      ]
     },
     "metadata": {},
     "output_type": "display_data"
    }
   ],
   "source": [
    "# 1.2.1 Visualize the coefficient trajectories\n",
    "ridge_coefs = []\n",
    "for a in alphas:\n",
    "    ridgereg = Ridge(alpha=a,normalize=True)\n",
    "    ridgereg.fit(x,y)\n",
    "    ridge_coefs.append(ridgereg.coef_)\n",
    "\n",
    "ax = plt.gca()\n",
    "ax.plot(alphas, ridge_coefs)\n",
    "ax.set_xscale('log')\n",
    "\n",
    "plt.xlabel('alpha')\n",
    "plt.ylabel('Coefficients')\n",
    "plt.title('Ridge Coefficients Trajectory')\n",
    "plt.axis('tight')\n",
    "plt.show()"
   ]
  },
  {
   "cell_type": "code",
   "execution_count": 8,
   "metadata": {},
   "outputs": [
    {
     "name": "stdout",
     "output_type": "stream",
     "text": [
      "The optimal value of the regularization penalty is: 0.0932603346883\n"
     ]
    }
   ],
   "source": [
    "# 1.2.2 Use cross-validation to find the optimal value of the regularization penalty\n",
    "ridgecv = RidgeCV(alphas = alphas, scoring = 'neg_mean_squared_error', normalize = True)\n",
    "ridgecv.fit(X_train, y_train)\n",
    "print(\"The optimal value of the regularization penalty is:\", ridgecv.alpha_)"
   ]
  },
  {
   "cell_type": "markdown",
   "metadata": {},
   "source": [
    "# 2 Short Answer\n",
    "\n",
    "# 2.1 Explain in your own words the bias-variance tradeoff\n",
    "\n",
    "Bias is the difference between the predict value and the actual value. Variance is the measurement of the sensitivity to fluctuation in training set. \n",
    "\n",
    "Less complicated model (with few parameters) often have a high bias but a low variance. Complicated model (with a lot of parameters) often have a low bias but a high variance. Since a model could not be complicated and not complicated at the same time, there has to be a tradeoff between bias and variance. "
   ]
  },
  {
   "cell_type": "markdown",
   "metadata": {},
   "source": [
    "# 2.2 What role does regularization play in this tradeoff? \n",
    "\n",
    "Regularization is used to penalize weights and reduce variance. In our case, alpha is the penalty parameter in Lasso and Ridge regression. Increasing alpha will put more restrctions on coefficients, reduce variance but increase bias. For Lasso regression, a very large alpha will push coeffients to zero. For Ridge regression, a very large alpha will push coeffients to appraoch zero."
   ]
  },
  {
   "cell_type": "markdown",
   "metadata": {},
   "source": [
    "# 2.3 Make reference to your findings in number (1) to describe models of high/low bias and variance\n",
    "\n",
    "In both Ridge and Lasso regression, MSE increases as alpha increases, which indicates that bias also increases. From the coefficient trajectories, we could see coefficients shrink to zero (in Lasso) or approach zero (in Ridge) as bias increases. Decreasing coefficients of features indicated lower variance. Therefore, we see that variance decreases as bias increases. There is a tradeoff between variance and bias. "
   ]
  }
 ],
 "metadata": {
  "kernelspec": {
   "display_name": "Python 3",
   "language": "python",
   "name": "python3"
  },
  "language_info": {
   "codemirror_mode": {
    "name": "ipython",
    "version": 3
   },
   "file_extension": ".py",
   "mimetype": "text/x-python",
   "name": "python",
   "nbconvert_exporter": "python",
   "pygments_lexer": "ipython3",
   "version": "3.6.5"
  }
 },
 "nbformat": 4,
 "nbformat_minor": 2
}
