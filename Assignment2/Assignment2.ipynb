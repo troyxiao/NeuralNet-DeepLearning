{
 "cells": [
  {
   "cell_type": "code",
   "execution_count": 1,
   "metadata": {},
   "outputs": [
    {
     "name": "stderr",
     "output_type": "stream",
     "text": [
      "Using TensorFlow backend.\n"
     ]
    }
   ],
   "source": [
    "import keras\n",
    "from keras.models import Model, Sequential\n",
    "from keras.datasets import mnist\n",
    "from keras.layers import Input, Dense, Conv1D, Conv2D, MaxPooling1D, GlobalMaxPooling1D, Dropout,\\\n",
    "                         Activation, Flatten, MaxPooling2D, UpSampling2D, SimpleRNN, Embedding, LSTM\n",
    "from keras.datasets import fashion_mnist\n",
    "from keras.applications import VGG16\n",
    "from keras.optimizers import SGD, Adam, RMSprop\n",
    "from keras.utils.data_utils import get_file\n",
    "from keras.preprocessing.text import Tokenizer\n",
    "from keras.preprocessing.sequence import pad_sequences\n",
    "from sklearn.model_selection import train_test_split\n",
    "from sklearn.metrics import roc_curve, auc\n",
    "\n",
    "import io\n",
    "import cv2\n",
    "import pandas as pd\n",
    "import numpy as np\n",
    "import matplotlib.pyplot as plt\n",
    "%matplotlib inline"
   ]
  },
  {
   "cell_type": "markdown",
   "metadata": {},
   "source": [
    "## 1 Autoencoder"
   ]
  },
  {
   "cell_type": "code",
   "execution_count": 2,
   "metadata": {},
   "outputs": [
    {
     "name": "stdout",
     "output_type": "stream",
     "text": [
      "(60000, 28, 28, 1)\n"
     ]
    }
   ],
   "source": [
    "(x_train, y_train), (x_test, y_test) = fashion_mnist.load_data()\n",
    "\n",
    "x_train = x_train.astype('float32') / 255.\n",
    "x_test = x_test.astype('float32') / 255.\n",
    "x_train = np.reshape(x_train, (len(x_train), 28, 28, 1))\n",
    "x_test = np.reshape(x_test, (len(x_test), 28, 28, 1))\n",
    "\n",
    "print x_train.shape"
   ]
  },
  {
   "cell_type": "code",
   "execution_count": 3,
   "metadata": {},
   "outputs": [],
   "source": [
    "input_img = Input(shape=(28, 28, 1))  \n",
    "\n",
    "x = Conv2D(32, (3, 3), activation='relu', padding='same')(input_img)\n",
    "x = MaxPooling2D((2, 2), padding='same')(x)\n",
    "x = Conv2D(16, (3, 3), activation='relu', padding='same')(x)\n",
    "x = MaxPooling2D((2, 2), padding='same')(x)\n",
    "x = Conv2D(16, (3, 3), activation='relu', padding='same')(x)\n",
    "encoded = MaxPooling2D((2, 2), padding='same')(x)\n",
    "\n",
    "x = Conv2D(16, (3, 3), activation='relu', padding='same')(encoded)\n",
    "x = UpSampling2D((2, 2))(x)\n",
    "x = Conv2D(16, (3, 3), activation='relu', padding='same')(x)\n",
    "x = UpSampling2D((2, 2))(x)\n",
    "x = Conv2D(32, (3, 3), activation='relu')(x)\n",
    "x = UpSampling2D((2, 2))(x)\n",
    "decoded = Conv2D(1, (3, 3), activation='sigmoid', padding='same')(x)\n",
    "\n",
    "autoencoder = Model(input_img, decoded)\n",
    "autoencoder.compile(optimizer='adadelta', loss='binary_crossentropy')"
   ]
  },
  {
   "cell_type": "code",
   "execution_count": 5,
   "metadata": {},
   "outputs": [
    {
     "name": "stdout",
     "output_type": "stream",
     "text": [
      "Train on 60000 samples, validate on 10000 samples\n",
      "Epoch 1/10\n",
      "60000/60000 [==============================] - 147s 2ms/step - loss: 0.3238 - val_loss: 0.3166\n",
      "Epoch 2/10\n",
      "60000/60000 [==============================] - 137s 2ms/step - loss: 0.3071 - val_loss: 0.3050\n",
      "Epoch 3/10\n",
      "60000/60000 [==============================] - 130s 2ms/step - loss: 0.3006 - val_loss: 0.2993\n",
      "Epoch 4/10\n",
      "60000/60000 [==============================] - 129s 2ms/step - loss: 0.2958 - val_loss: 0.2957\n",
      "Epoch 5/10\n",
      "60000/60000 [==============================] - 129s 2ms/step - loss: 0.2929 - val_loss: 0.2935\n",
      "Epoch 6/10\n",
      "60000/60000 [==============================] - 130s 2ms/step - loss: 0.2906 - val_loss: 0.2901\n",
      "Epoch 7/10\n",
      "60000/60000 [==============================] - 131s 2ms/step - loss: 0.2886 - val_loss: 0.2897\n",
      "Epoch 8/10\n",
      "60000/60000 [==============================] - 131s 2ms/step - loss: 0.2866 - val_loss: 0.2885\n",
      "Epoch 9/10\n",
      "60000/60000 [==============================] - 130s 2ms/step - loss: 0.2856 - val_loss: 0.2880\n",
      "Epoch 10/10\n",
      "60000/60000 [==============================] - 129s 2ms/step - loss: 0.2845 - val_loss: 0.2841\n"
     ]
    },
    {
     "data": {
      "text/plain": [
       "<keras.callbacks.History at 0x10d9f0e50>"
      ]
     },
     "execution_count": 5,
     "metadata": {},
     "output_type": "execute_result"
    }
   ],
   "source": [
    "autoencoder.fit(x_train, x_train, epochs=10, batch_size=128, shuffle=True, validation_data=(x_test, x_test), verbose=1)"
   ]
  },
  {
   "cell_type": "code",
   "execution_count": 8,
   "metadata": {},
   "outputs": [
    {
     "data": {
      "image/png": "[encoded data removed]",
      "text/plain": [
       "<Figure size 432x288 with 10 Axes>"
      ]
     },
     "metadata": {
      "needs_background": "light"
     },
     "output_type": "display_data"
    }
   ],
   "source": [
    "decoded_imgs = autoencoder.predict(x_test)\n",
    "f, ax = plt.subplots(2, 5)\n",
    "for i in range(5):\n",
    "    r = np.random.randint(1,1000)\n",
    "    ax[0,i].imshow(x_test[r].reshape(28, 28))\n",
    "    ax[0,i].get_xaxis().set_visible(False)\n",
    "    ax[0,i].get_yaxis().set_visible(False)\n",
    "    ax[1,i].imshow(decoded_imgs[r].reshape(28, 28))\n",
    "    ax[1,i].get_xaxis().set_visible(False)\n",
    "    ax[1,i].get_yaxis().set_visible(False)"
   ]
  },
  {
   "cell_type": "markdown",
   "metadata": {},
   "source": [
    "## 2 Image Classification\n",
    "\n",
    "### 2.1 Deep CNN"
   ]
  },
  {
   "cell_type": "code",
   "execution_count": 9,
   "metadata": {},
   "outputs": [],
   "source": [
    "(x_train, y_train), (x_test, y_test) = fashion_mnist.load_data()\n",
    "\n",
    "x_train = x_train.reshape(x_train.shape[0], 28, 28,1)\n",
    "x_test = x_test.reshape(x_test.shape[0], 28, 28,1)\n",
    "x_train = x_train.astype('float32') / 255\n",
    "x_test = x_test.astype('float32') / 255\n",
    "\n",
    "y_train = keras.utils.to_categorical(y_train, 10)\n",
    "y_test = keras.utils.to_categorical(y_test, 10)"
   ]
  },
  {
   "cell_type": "markdown",
   "metadata": {},
   "source": [
    "#### I stacked two 2d convolutional layers with small kernel size for better learning ability. I chose zero padding to preserve the spatial size. Adding pooling layer and dropout layer could reduce dimension and force the model to learn. The dataset is small and easy to classify, thus the model is not too deep. After flatten, simply 2 dense layers could achieve a good multi-class classification result. "
   ]
  },
  {
   "cell_type": "code",
   "execution_count": 10,
   "metadata": {},
   "outputs": [
    {
     "name": "stdout",
     "output_type": "stream",
     "text": [
      "_________________________________________________________________\n",
      "Layer (type)                 Output Shape              Param #   \n",
      "=================================================================\n",
      "conv2d_8 (Conv2D)            (None, 28, 28, 64)        640       \n",
      "_________________________________________________________________\n",
      "conv2d_9 (Conv2D)            (None, 28, 28, 32)        18464     \n",
      "_________________________________________________________________\n",
      "max_pooling2d_4 (MaxPooling2 (None, 14, 14, 32)        0         \n",
      "_________________________________________________________________\n",
      "dropout_1 (Dropout)          (None, 14, 14, 32)        0         \n",
      "_________________________________________________________________\n",
      "flatten_1 (Flatten)          (None, 6272)              0         \n",
      "_________________________________________________________________\n",
      "dense_1 (Dense)              (None, 256)               1605888   \n",
      "_________________________________________________________________\n",
      "dropout_2 (Dropout)          (None, 256)               0         \n",
      "_________________________________________________________________\n",
      "dense_2 (Dense)              (None, 10)                2570      \n",
      "=================================================================\n",
      "Total params: 1,627,562\n",
      "Trainable params: 1,627,562\n",
      "Non-trainable params: 0\n",
      "_________________________________________________________________\n"
     ]
    }
   ],
   "source": [
    "model = Sequential()\n",
    "\n",
    "model.add(Conv2D(64, kernel_size=(3, 3), padding='same', activation='relu', input_shape=(28,28,1))) \n",
    "model.add(Conv2D(32, kernel_size=(3, 3), padding='same', activation='relu'))\n",
    "model.add(MaxPooling2D(pool_size=2))\n",
    "model.add(Dropout(0.2))\n",
    "model.add(Flatten())\n",
    "model.add(Dense(256, activation='relu'))\n",
    "model.add(Dropout(0.5))\n",
    "model.add(Dense(10, activation='softmax'))\n",
    "\n",
    "model.summary()\n",
    "\n",
    "model.compile(loss='categorical_crossentropy', optimizer='adam', metrics=['accuracy'])"
   ]
  },
  {
   "cell_type": "code",
   "execution_count": 11,
   "metadata": {},
   "outputs": [
    {
     "name": "stdout",
     "output_type": "stream",
     "text": [
      "Train on 60000 samples, validate on 10000 samples\n",
      "Epoch 1/10\n",
      "60000/60000 [==============================] - 176s 3ms/step - loss: 0.5270 - acc: 0.8124 - val_loss: 0.3421 - val_acc: 0.8751\n",
      "Epoch 2/10\n",
      "60000/60000 [==============================] - 171s 3ms/step - loss: 0.3228 - acc: 0.8841 - val_loss: 0.2823 - val_acc: 0.8946\n",
      "Epoch 3/10\n",
      "60000/60000 [==============================] - 173s 3ms/step - loss: 0.2745 - acc: 0.8994 - val_loss: 0.2597 - val_acc: 0.9033\n",
      "Epoch 4/10\n",
      "60000/60000 [==============================] - 173s 3ms/step - loss: 0.2458 - acc: 0.9100 - val_loss: 0.2408 - val_acc: 0.9118\n",
      "Epoch 5/10\n",
      "60000/60000 [==============================] - 172s 3ms/step - loss: 0.2206 - acc: 0.9187 - val_loss: 0.2270 - val_acc: 0.9184\n",
      "Epoch 6/10\n",
      "60000/60000 [==============================] - 173s 3ms/step - loss: 0.2057 - acc: 0.9235 - val_loss: 0.2245 - val_acc: 0.9199\n",
      "Epoch 7/10\n",
      "60000/60000 [==============================] - 172s 3ms/step - loss: 0.1835 - acc: 0.9328 - val_loss: 0.2148 - val_acc: 0.9239\n",
      "Epoch 8/10\n",
      "60000/60000 [==============================] - 176s 3ms/step - loss: 0.1730 - acc: 0.9362 - val_loss: 0.2150 - val_acc: 0.9235\n",
      "Epoch 9/10\n",
      "60000/60000 [==============================] - 173s 3ms/step - loss: 0.1596 - acc: 0.9408 - val_loss: 0.2115 - val_acc: 0.9266\n",
      "Epoch 10/10\n",
      "60000/60000 [==============================] - 173s 3ms/step - loss: 0.1463 - acc: 0.9459 - val_loss: 0.2126 - val_acc: 0.9274\n"
     ]
    },
    {
     "data": {
      "text/plain": [
       "<keras.callbacks.History at 0x1a3552f610>"
      ]
     },
     "execution_count": 11,
     "metadata": {},
     "output_type": "execute_result"
    }
   ],
   "source": [
    "model.fit(x_train, y_train, batch_size=256, epochs=10, verbose=1, validation_data=(x_test, y_test))"
   ]
  },
  {
   "cell_type": "code",
   "execution_count": 12,
   "metadata": {},
   "outputs": [
    {
     "name": "stdout",
     "output_type": "stream",
     "text": [
      "('Loss Value for training set:', 0.09601795230507851)\n",
      "('Accuracy for training set:', 0.9664)\n",
      "('Loss Value for test set:', 0.21263476656377314)\n",
      "('Accuracy for test set:', 0.9274)\n"
     ]
    }
   ],
   "source": [
    "score = model.evaluate(x_train, y_train, verbose=0)\n",
    "print('Loss Value for training set:', score[0]) \n",
    "print('Accuracy for training set:', score[1])\n",
    "\n",
    "score = model.evaluate(x_test, y_test, verbose=0)\n",
    "print('Loss Value for test set:', score[0]) \n",
    "print('Accuracy for test set:', score[1])"
   ]
  },
  {
   "cell_type": "markdown",
   "metadata": {},
   "source": [
    "### 2.2 Transfer Learning"
   ]
  },
  {
   "cell_type": "code",
   "execution_count": 14,
   "metadata": {},
   "outputs": [],
   "source": [
    "(x_train, y_train), (x_test, y_test) = fashion_mnist.load_data()\n",
    "\n",
    "x_train = np.asarray([cv2.resize(i, (32,32)) for i in x_train])\n",
    "x_test = np.asarray([cv2.resize(i, (32,32)) for i in x_test])\n",
    "x_train = x_train.reshape(x_train.shape[0], 32, 32,1)\n",
    "x_test = x_test.reshape(x_test.shape[0], 32, 32, 1)\n",
    "x_train = np.dstack([x_train] * 3)\n",
    "x_test = np.dstack([x_test]*3)\n",
    "x_train = x_train.reshape(-1, 32,32,3)\n",
    "x_test= x_test.reshape (-1,32,32,3)\n",
    "\n",
    "y_train = keras.utils.to_categorical(y_train, 10) \n",
    "y_test = keras.utils.to_categorical(y_test, 10)"
   ]
  },
  {
   "cell_type": "markdown",
   "metadata": {},
   "source": [
    "#### I used the pre-trained model VGG16 as the base model, freeze the layers and add 3 dense layers for classification."
   ]
  },
  {
   "cell_type": "code",
   "execution_count": 15,
   "metadata": {},
   "outputs": [
    {
     "name": "stdout",
     "output_type": "stream",
     "text": [
      "_________________________________________________________________\n",
      "Layer (type)                 Output Shape              Param #   \n",
      "=================================================================\n",
      "input_2 (InputLayer)         (None, 32, 32, 3)         0         \n",
      "_________________________________________________________________\n",
      "block1_conv1 (Conv2D)        (None, 32, 32, 64)        1792      \n",
      "_________________________________________________________________\n",
      "block1_conv2 (Conv2D)        (None, 32, 32, 64)        36928     \n",
      "_________________________________________________________________\n",
      "block1_pool (MaxPooling2D)   (None, 16, 16, 64)        0         \n",
      "_________________________________________________________________\n",
      "block2_conv1 (Conv2D)        (None, 16, 16, 128)       73856     \n",
      "_________________________________________________________________\n",
      "block2_conv2 (Conv2D)        (None, 16, 16, 128)       147584    \n",
      "_________________________________________________________________\n",
      "block2_pool (MaxPooling2D)   (None, 8, 8, 128)         0         \n",
      "_________________________________________________________________\n",
      "block3_conv1 (Conv2D)        (None, 8, 8, 256)         295168    \n",
      "_________________________________________________________________\n",
      "block3_conv2 (Conv2D)        (None, 8, 8, 256)         590080    \n",
      "_________________________________________________________________\n",
      "block3_conv3 (Conv2D)        (None, 8, 8, 256)         590080    \n",
      "_________________________________________________________________\n",
      "block3_pool (MaxPooling2D)   (None, 4, 4, 256)         0         \n",
      "_________________________________________________________________\n",
      "block4_conv1 (Conv2D)        (None, 4, 4, 512)         1180160   \n",
      "_________________________________________________________________\n",
      "block4_conv2 (Conv2D)        (None, 4, 4, 512)         2359808   \n",
      "_________________________________________________________________\n",
      "block4_conv3 (Conv2D)        (None, 4, 4, 512)         2359808   \n",
      "_________________________________________________________________\n",
      "block4_pool (MaxPooling2D)   (None, 2, 2, 512)         0         \n",
      "_________________________________________________________________\n",
      "block5_conv1 (Conv2D)        (None, 2, 2, 512)         2359808   \n",
      "_________________________________________________________________\n",
      "block5_conv2 (Conv2D)        (None, 2, 2, 512)         2359808   \n",
      "_________________________________________________________________\n",
      "block5_conv3 (Conv2D)        (None, 2, 2, 512)         2359808   \n",
      "_________________________________________________________________\n",
      "block5_pool (MaxPooling2D)   (None, 1, 1, 512)         0         \n",
      "_________________________________________________________________\n",
      "sequential_2 (Sequential)    (None, 10)                148426    \n",
      "=================================================================\n",
      "Total params: 14,863,114\n",
      "Trainable params: 148,426\n",
      "Non-trainable params: 14,714,688\n",
      "_________________________________________________________________\n"
     ]
    }
   ],
   "source": [
    "base_model = VGG16(weights='imagenet', include_top=False, input_shape=(32,32,3))\n",
    "for layer in base_model.layers:\n",
    "    layer.trainable = False\n",
    "\n",
    "add_model = Sequential()\n",
    "add_model.add(Flatten(input_shape=base_model.output_shape[1:]))\n",
    "add_model.add(Dropout(0.2))\n",
    "add_model.add(Dense(256, activation='relu'))\n",
    "add_model.add(Dropout(0.2))\n",
    "add_model.add(Dense(64, activation='relu'))\n",
    "add_model.add(Dropout(0.2))\n",
    "add_model.add(Dense(10, activation='softmax'))\n",
    "\n",
    "model = Model(inputs=base_model.input, outputs=add_model(base_model.output))\n",
    "model.compile(loss='categorical_crossentropy', optimizer='adam', metrics=['accuracy'])\n",
    "model.summary()"
   ]
  },
  {
   "cell_type": "code",
   "execution_count": 16,
   "metadata": {},
   "outputs": [
    {
     "name": "stdout",
     "output_type": "stream",
     "text": [
      "Train on 60000 samples, validate on 10000 samples\n",
      "Epoch 1/10\n",
      "60000/60000 [==============================] - 481s 8ms/step - loss: 2.8291 - acc: 0.5144 - val_loss: 0.8288 - val_acc: 0.7174\n",
      "Epoch 2/10\n",
      "60000/60000 [==============================] - 494s 8ms/step - loss: 0.9478 - acc: 0.6705 - val_loss: 0.6696 - val_acc: 0.7641\n",
      "Epoch 3/10\n",
      "60000/60000 [==============================] - 500s 8ms/step - loss: 0.8181 - acc: 0.7077 - val_loss: 0.6407 - val_acc: 0.7704\n",
      "Epoch 4/10\n",
      "60000/60000 [==============================] - 496s 8ms/step - loss: 0.7494 - acc: 0.7310 - val_loss: 0.5916 - val_acc: 0.7886\n",
      "Epoch 5/10\n",
      "60000/60000 [==============================] - 496s 8ms/step - loss: 0.7085 - acc: 0.7448 - val_loss: 0.5718 - val_acc: 0.7934\n",
      "Epoch 6/10\n",
      "60000/60000 [==============================] - 501s 8ms/step - loss: 0.6747 - acc: 0.7569 - val_loss: 0.5532 - val_acc: 0.7979\n",
      "Epoch 7/10\n",
      "60000/60000 [==============================] - 480s 8ms/step - loss: 0.6474 - acc: 0.7667 - val_loss: 0.5424 - val_acc: 0.8008\n",
      "Epoch 8/10\n",
      "60000/60000 [==============================] - 480s 8ms/step - loss: 0.6316 - acc: 0.7729 - val_loss: 0.5407 - val_acc: 0.8039\n",
      "Epoch 9/10\n",
      "60000/60000 [==============================] - 492s 8ms/step - loss: 0.6133 - acc: 0.7784 - val_loss: 0.5275 - val_acc: 0.8110\n",
      "Epoch 10/10\n",
      "60000/60000 [==============================] - 496s 8ms/step - loss: 0.6028 - acc: 0.7820 - val_loss: 0.5183 - val_acc: 0.8146\n"
     ]
    },
    {
     "data": {
      "text/plain": [
       "<keras.callbacks.History at 0x10d98eb90>"
      ]
     },
     "execution_count": 16,
     "metadata": {},
     "output_type": "execute_result"
    }
   ],
   "source": [
    "model.fit(x_train, y_train, batch_size=256, epochs=10, verbose=1, validation_data=(x_test, y_test))"
   ]
  },
  {
   "cell_type": "code",
   "execution_count": 18,
   "metadata": {},
   "outputs": [
    {
     "name": "stdout",
     "output_type": "stream",
     "text": [
      "('Loss Value for training set:', 0.47049360126654305)\n",
      "('Accuracy for training set:', 0.8254833333333333)\n",
      "('Loss Value for test set:', 0.5183112221717835)\n",
      "('Accuracy for test set:', 0.8146)\n"
     ]
    }
   ],
   "source": [
    "score = model.evaluate(x_train, y_train, verbose=0)\n",
    "print('Loss Value for training set:', score[0]) \n",
    "print('Accuracy for training set:', score[1])\n",
    "\n",
    "score = model.evaluate(x_test, y_test, verbose=0)\n",
    "print('Loss Value for test set:', score[0]) \n",
    "print('Accuracy for test set:', score[1])"
   ]
  },
  {
   "cell_type": "markdown",
   "metadata": {},
   "source": [
    "## 3 Text Classification\n",
    "### 3.1 RNN "
   ]
  },
  {
   "cell_type": "code",
   "execution_count": 34,
   "metadata": {},
   "outputs": [
    {
     "data": {
      "text/html": [
       "<div>\n",
       "<style scoped>\n",
       "    .dataframe tbody tr th:only-of-type {\n",
       "        vertical-align: middle;\n",
       "    }\n",
       "\n",
       "    .dataframe tbody tr th {\n",
       "        vertical-align: top;\n",
       "    }\n",
       "\n",
       "    .dataframe thead th {\n",
       "        text-align: right;\n",
       "    }\n",
       "</style>\n",
       "<table border=\"1\" class=\"dataframe\">\n",
       "  <thead>\n",
       "    <tr style=\"text-align: right;\">\n",
       "      <th></th>\n",
       "      <th>urls</th>\n",
       "      <th>label</th>\n",
       "    </tr>\n",
       "  </thead>\n",
       "  <tbody>\n",
       "    <tr>\n",
       "      <th>0</th>\n",
       "      <td>.0.blogger.gmodules.com</td>\n",
       "      <td>1</td>\n",
       "    </tr>\n",
       "    <tr>\n",
       "      <th>1</th>\n",
       "      <td>.0.client-channel.google.com</td>\n",
       "      <td>1</td>\n",
       "    </tr>\n",
       "    <tr>\n",
       "      <th>2</th>\n",
       "      <td>.0.docs.google.com</td>\n",
       "      <td>1</td>\n",
       "    </tr>\n",
       "    <tr>\n",
       "      <th>3</th>\n",
       "      <td>.0.drive.google.com</td>\n",
       "      <td>1</td>\n",
       "    </tr>\n",
       "    <tr>\n",
       "      <th>4</th>\n",
       "      <td>.0.gvt0.cn</td>\n",
       "      <td>1</td>\n",
       "    </tr>\n",
       "  </tbody>\n",
       "</table>\n",
       "</div>"
      ],
      "text/plain": [
       "                           urls  label\n",
       "0       .0.blogger.gmodules.com      1\n",
       "1  .0.client-channel.google.com      1\n",
       "2            .0.docs.google.com      1\n",
       "3           .0.drive.google.com      1\n",
       "4                    .0.gvt0.cn      1"
      ]
     },
     "execution_count": 34,
     "metadata": {},
     "output_type": "execute_result"
    }
   ],
   "source": [
    "benign = get_file('benign', origin='https://s3.amazonaws.com/anly-590/url-classification/benign-urls.txt')\n",
    "malicious = get_file('malicious', origin='https://s3.amazonaws.com/anly-590/url-classification/malicious-urls.txt')\n",
    "\n",
    "with io.open(benign, encoding='utf-8') as f:\n",
    "    lines = f.readlines()\n",
    "benign_string = [line.rstrip(\"\\n\\r\") for line in lines[0:] if \"#\" not in line]\n",
    "\n",
    "with io.open(malicious, encoding='utf-8') as f:\n",
    "    lines = f.readlines()\n",
    "malicious_string = [line.rstrip(\"\\n\\r\") for line in lines[0:] if \"#\" not in line]\n",
    "\n",
    "benign_urls = pd.DataFrame(benign_string)\n",
    "benign_urls['label'] = 1\n",
    "\n",
    "malicious_urls = pd.DataFrame(malicious_string)\n",
    "malicious_urls['label'] = 0\n",
    "\n",
    "df = pd.concat([benign_urls, malicious_urls])\n",
    "df.columns = ['urls', 'label']\n",
    "df.head(5)"
   ]
  },
  {
   "cell_type": "code",
   "execution_count": 35,
   "metadata": {},
   "outputs": [],
   "source": [
    "tokenizer = Tokenizer(num_words = 100000)\n",
    "tokenizer.fit_on_texts(df['urls'])\n",
    "seq = tokenizer.texts_to_sequences(df['urls'])\n",
    "\n",
    "max_len = max(df['urls'].str.len())\n",
    "X = pad_sequences(seq, maxlen=max_len)\n",
    "\n",
    "X_train, X_test, Y_train, Y_test = train_test_split(X, np.array(df.label), test_size=0.2, random_state=123)"
   ]
  },
  {
   "cell_type": "code",
   "execution_count": 21,
   "metadata": {},
   "outputs": [],
   "source": [
    "model = Sequential()\n",
    "model.add(Embedding(100000, 64))\n",
    "model.add(Dropout(0.2))\n",
    "model.add(LSTM(32))\n",
    "model.add(Dense(1, activation ='sigmoid'))\n",
    "\n",
    "model.compile(optimizer= 'adam', loss='binary_crossentropy', metrics=['accuracy'])"
   ]
  },
  {
   "cell_type": "code",
   "execution_count": 22,
   "metadata": {},
   "outputs": [
    {
     "name": "stdout",
     "output_type": "stream",
     "text": [
      "Train on 53848 samples, validate on 13463 samples\n",
      "Epoch 1/10\n",
      "53848/53848 [==============================] - 141s 3ms/step - loss: 0.0581 - acc: 0.9847 - val_loss: 0.0194 - val_acc: 0.9913\n",
      "Epoch 2/10\n",
      "53848/53848 [==============================] - 140s 3ms/step - loss: 0.0114 - acc: 0.9957 - val_loss: 0.0228 - val_acc: 0.9847\n",
      "Epoch 3/10\n",
      "53848/53848 [==============================] - 139s 3ms/step - loss: 0.0023 - acc: 0.9996 - val_loss: 0.0209 - val_acc: 0.9921\n",
      "Epoch 4/10\n",
      "53848/53848 [==============================] - 139s 3ms/step - loss: 8.2364e-04 - acc: 0.9999 - val_loss: 0.0207 - val_acc: 0.9921\n",
      "Epoch 5/10\n",
      "53848/53848 [==============================] - 139s 3ms/step - loss: 6.1453e-04 - acc: 0.9999 - val_loss: 0.0196 - val_acc: 0.9926\n",
      "Epoch 6/10\n",
      "53848/53848 [==============================] - 143s 3ms/step - loss: 4.2618e-04 - acc: 0.9999 - val_loss: 0.0238 - val_acc: 0.9923\n",
      "Epoch 7/10\n",
      "53848/53848 [==============================] - 141s 3ms/step - loss: 2.5509e-04 - acc: 0.9999 - val_loss: 0.0228 - val_acc: 0.9921\n",
      "Epoch 8/10\n",
      "53848/53848 [==============================] - 140s 3ms/step - loss: 3.5166e-04 - acc: 0.9999 - val_loss: 0.0206 - val_acc: 0.9927\n",
      "Epoch 9/10\n",
      "53848/53848 [==============================] - 141s 3ms/step - loss: 1.9861e-04 - acc: 0.9999 - val_loss: 0.0256 - val_acc: 0.9887\n",
      "Epoch 10/10\n",
      "53848/53848 [==============================] - 140s 3ms/step - loss: 3.3357e-04 - acc: 0.9999 - val_loss: 0.0236 - val_acc: 0.9923\n"
     ]
    },
    {
     "data": {
      "text/plain": [
       "<keras.callbacks.History at 0x1a429ef090>"
      ]
     },
     "execution_count": 22,
     "metadata": {},
     "output_type": "execute_result"
    }
   ],
   "source": [
    "model.fit(X_train, Y_train, epochs = 10, batch_size = 64, validation_data = (X_test,Y_test), verbose=1)"
   ]
  },
  {
   "cell_type": "code",
   "execution_count": 23,
   "metadata": {},
   "outputs": [],
   "source": [
    "y_pred = model.predict(X_test).ravel()\n",
    "fpr, tpr, thresholds = roc_curve(Y_test, y_pred)\n",
    "auc_rnn = auc(fpr, tpr)"
   ]
  },
  {
   "cell_type": "markdown",
   "metadata": {},
   "source": [
    "### 3.2 CNN"
   ]
  },
  {
   "cell_type": "code",
   "execution_count": 29,
   "metadata": {},
   "outputs": [
    {
     "name": "stdout",
     "output_type": "stream",
     "text": [
      "_________________________________________________________________\n",
      "Layer (type)                 Output Shape              Param #   \n",
      "=================================================================\n",
      "embedding_3 (Embedding)      (None, 86, 128)           12800000  \n",
      "_________________________________________________________________\n",
      "dropout_8 (Dropout)          (None, 86, 128)           0         \n",
      "_________________________________________________________________\n",
      "conv1d_2 (Conv1D)            (None, 83, 128)           65664     \n",
      "_________________________________________________________________\n",
      "global_max_pooling1d_2 (Glob (None, 128)               0         \n",
      "_________________________________________________________________\n",
      "dense_8 (Dense)              (None, 1)                 129       \n",
      "=================================================================\n",
      "Total params: 12,865,793\n",
      "Trainable params: 12,865,793\n",
      "Non-trainable params: 0\n",
      "_________________________________________________________________\n"
     ]
    }
   ],
   "source": [
    "model = Sequential()\n",
    "model.add(Embedding(100000, 128, input_length=max_len))\n",
    "model.add(Dropout(0.2))\n",
    "model.add(Conv1D(128, 4, activation='relu'))\n",
    "model.add(GlobalMaxPooling1D())\n",
    "model.add(Dense(1,activation='sigmoid'))\n",
    "model.summary()\n",
    "\n",
    "model.compile(optimizer= 'adam', loss='binary_crossentropy', metrics=['accuracy'])"
   ]
  },
  {
   "cell_type": "code",
   "execution_count": 30,
   "metadata": {},
   "outputs": [
    {
     "name": "stdout",
     "output_type": "stream",
     "text": [
      "Train on 53848 samples, validate on 13463 samples\n",
      "Epoch 1/10\n",
      "53848/53848 [==============================] - 192s 4ms/step - loss: 0.0484 - acc: 0.9855 - val_loss: 0.0184 - val_acc: 0.9919\n",
      "Epoch 2/10\n",
      "53848/53848 [==============================] - 190s 4ms/step - loss: 0.0093 - acc: 0.9970 - val_loss: 0.0168 - val_acc: 0.9927\n",
      "Epoch 3/10\n",
      "53848/53848 [==============================] - 192s 4ms/step - loss: 0.0012 - acc: 0.9998 - val_loss: 0.0175 - val_acc: 0.9912\n",
      "Epoch 4/10\n",
      "53848/53848 [==============================] - 192s 4ms/step - loss: 3.6410e-04 - acc: 0.9999 - val_loss: 0.0196 - val_acc: 0.9887\n",
      "Epoch 5/10\n",
      "53848/53848 [==============================] - 192s 4ms/step - loss: 1.6606e-04 - acc: 1.0000 - val_loss: 0.0197 - val_acc: 0.9892\n",
      "Epoch 6/10\n",
      "53848/53848 [==============================] - 195s 4ms/step - loss: 1.1537e-04 - acc: 0.9999 - val_loss: 0.0186 - val_acc: 0.9915\n",
      "Epoch 7/10\n",
      "53848/53848 [==============================] - 206s 4ms/step - loss: 8.6027e-05 - acc: 1.0000 - val_loss: 0.0203 - val_acc: 0.9897\n",
      "Epoch 8/10\n",
      "53848/53848 [==============================] - 198s 4ms/step - loss: 1.4421e-04 - acc: 1.0000 - val_loss: 0.0211 - val_acc: 0.9886\n",
      "Epoch 9/10\n",
      "53848/53848 [==============================] - 202s 4ms/step - loss: 8.9042e-06 - acc: 1.0000 - val_loss: 0.0236 - val_acc: 0.9872\n",
      "Epoch 10/10\n",
      "53848/53848 [==============================] - 199s 4ms/step - loss: 1.9076e-05 - acc: 1.0000 - val_loss: 0.0580 - val_acc: 0.9834\n"
     ]
    }
   ],
   "source": [
    "model_log = model.fit(X_train, Y_train, epochs = 10, batch_size = 64, validation_data = (X_test,Y_test), verbose=1)"
   ]
  },
  {
   "cell_type": "code",
   "execution_count": 31,
   "metadata": {},
   "outputs": [],
   "source": [
    "y_pred = model.predict(X_test).ravel()\n",
    "fpr, tpr, thresholds = roc_curve(Y_test, y_pred)\n",
    "auc_cnn = auc(fpr, tpr)"
   ]
  },
  {
   "cell_type": "markdown",
   "metadata": {},
   "source": [
    "## 3.3 Plot ROC"
   ]
  },
  {
   "cell_type": "code",
   "execution_count": 32,
   "metadata": {},
   "outputs": [
    {
     "data": {
      "image/png": "[encoded data removed]",
      "text/plain": [
       "<Figure size 432x288 with 1 Axes>"
      ]
     },
     "metadata": {
      "needs_background": "light"
     },
     "output_type": "display_data"
    }
   ],
   "source": [
    "plt.plot([0, 1], [0, 1], color='navy', lw=2, linestyle='--')\n",
    "plt.xlabel('False positive rate')\n",
    "plt.ylabel('True positive rate')\n",
    "plt.title('ROC of 1D CNN model and RNN model')\n",
    "plt.plot(fpr_rnn, tpr_rnn, label='RNN (area = %0.2f)'% auc_rnn)\n",
    "plt.plot(fpr_cnn, tpr_cnn, label='1D CNN (area = %0.2f)'% auc_cnn)\n",
    "plt.legend(loc='best')\n",
    "plt.show()"
   ]
  },
  {
   "cell_type": "code",
   "execution_count": null,
   "metadata": {},
   "outputs": [],
   "source": []
  }
 ],
 "metadata": {
  "kernelspec": {
   "display_name": "Python 3",
   "language": "python",
   "name": "python3"
  },
  "language_info": {
   "codemirror_mode": {
    "name": "ipython",
    "version": 2
   },
   "file_extension": ".py",
   "mimetype": "text/x-python",
   "name": "python",
   "nbconvert_exporter": "python",
   "pygments_lexer": "ipython2",
   "version": "2.7.15"
  }
 },
 "nbformat": 4,
 "nbformat_minor": 2
}
